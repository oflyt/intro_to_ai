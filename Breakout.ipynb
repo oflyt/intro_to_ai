{
 "cells": [
  {
   "cell_type": "markdown",
   "metadata": {},
   "source": [
    "#### Constants"
   ]
  },
  {
   "cell_type": "code",
   "execution_count": 1,
   "metadata": {},
   "outputs": [],
   "source": [
    "IMG_HEIGHT=100\n",
    "IMG_WIDTH=100\n",
    "\n",
    "epsilon = 0.4\n",
    "gamma = 0.99\n",
    "n_episodes = 500"
   ]
  },
  {
   "cell_type": "markdown",
   "metadata": {},
   "source": [
    "#### Fill memory"
   ]
  },
  {
   "cell_type": "code",
   "execution_count": 2,
   "metadata": {},
   "outputs": [],
   "source": [
    "import ai_util as util\n",
    "\n",
    "def fill_memory(env, memory, img_pp):\n",
    "    env.reset()\n",
    "    state = img_pp.preprocess(env.render(mode='rgb_array'))\n",
    "    states = util.create_states_arr(state)\n",
    "    for t in range(32):\n",
    "        state = img_pp.preprocess(env.render(mode='rgb_array'))\n",
    "        states = util.update_states(states, state)\n",
    "        action = env.action_space.sample()\n",
    "        next_state_raw, reward, done, _ = env.step(action)\n",
    "        next_state = img_pp.preprocess(next_state_raw)\n",
    "        next_states = util.update_states(states, next_state)\n",
    "        memory.add(states, action, reward, next_states, done)"
   ]
  },
  {
   "cell_type": "markdown",
   "metadata": {},
   "source": [
    "#### Training"
   ]
  },
  {
   "cell_type": "code",
   "execution_count": 3,
   "metadata": {},
   "outputs": [],
   "source": [
    "from ai_memory import Memory\n",
    "import ai_display as display\n",
    "import random\n",
    "\n",
    "def train(env, agent, n_episodes, img_pp):\n",
    "    memory = Memory()\n",
    "    fill_memory(env, memory, img_pp)\n",
    "    \n",
    "    for episode in range(n_episodes):\n",
    "        env.reset()\n",
    "        state = img_pp.preprocess(env.render(mode='rgb_array'))\n",
    "        states = util.create_states_arr(state)\n",
    "        done = False\n",
    "\n",
    "        while not done:\n",
    "            state_raw = env.render(mode='rgb_array')\n",
    "            state = img_pp.preprocess(state_raw)\n",
    "            states = util.update_states(states, state)\n",
    "            \n",
    "            #display.show_state(state, env.spec.id, t)\n",
    "\n",
    "            if random.random() < epsilon:\n",
    "                action = env.action_space.sample() \n",
    "            else:\n",
    "                action = agent.predict(states)\n",
    "\n",
    "            next_state_raw, reward, done, info = env.step(action)\n",
    "            next_state = img_pp.preprocess(next_state_raw)\n",
    "            next_states = util.update_states(states, next_state)\n",
    "            \n",
    "            memory.add(states, action, reward, next_states, done)\n",
    "            batch = memory.sample(32)\n",
    "            agent.fit(batch, gamma, n_actions)\n",
    "            \n",
    "            states = next_states\n",
    "\n",
    "        print(\"Finished episode {}\".format(episode))"
   ]
  },
  {
   "cell_type": "markdown",
   "metadata": {},
   "source": [
    "#### Playing"
   ]
  },
  {
   "cell_type": "code",
   "execution_count": 4,
   "metadata": {},
   "outputs": [],
   "source": [
    "import ai_display as display\n",
    "\n",
    "def play(env, agent, n_episodes, img_pp):\n",
    "    env.reset()\n",
    "    state = img_pp.preprocess(env.render(mode='rgb_array'))\n",
    "    states = util.create_states_arr(state)\n",
    "    done = False\n",
    "    \n",
    "    while not done:\n",
    "        state = img_pp.preprocess(env.render(mode='rgb_array'))\n",
    "        states = util.update_states(states, state)\n",
    "        \n",
    "        display.show_state(state, env.spec.id)\n",
    "        \n",
    "        if random.random() < epsilon:\n",
    "            action = env.action_space.sample() \n",
    "        else:\n",
    "            action = agent.predict(states)\n",
    "                \n",
    "        next_state_raw, reward, done, info = env.step(action)\n",
    "        \n",
    "        next_state = img_pp.preprocess(next_state_raw)\n",
    "        states = util.update_states(states, next_state)"
   ]
  },
  {
   "cell_type": "markdown",
   "metadata": {},
   "source": [
    "#### Main"
   ]
  },
  {
   "cell_type": "code",
   "execution_count": null,
   "metadata": {
    "scrolled": false
   },
   "outputs": [
    {
     "name": "stderr",
     "output_type": "stream",
     "text": [
      "Using TensorFlow backend.\n"
     ]
    }
   ],
   "source": [
    "from ai_agent import Agent\n",
    "from ai_image_preprocess import ImagePreprocessor\n",
    "import gym\n",
    "\n",
    "agent = Agent()\n",
    "img_pp = ImagePreprocessor(IMG_WIDTH, IMG_HEIGHT)\n",
    "\n",
    "env = gym.make(\"BreakoutDeterministic-v4\")\n",
    "state_shape = (IMG_WIDTH, IMG_HEIGHT, 4)\n",
    "n_actions = env.action_space.n\n",
    "\n",
    "# Train\n",
    "#agent.build_model(state_shape, n_actions)\n",
    "agent.load_model(\"model\")\n",
    "train(env, agent, n_episodes, img_pp)\n",
    "agent.save_model(\"model\")\n",
    "\n",
    "# Play\n",
    "play(env, agent, n_episodes, img_pp)    "
   ]
  }
 ],
 "metadata": {
  "kernelspec": {
   "display_name": "Python 3",
   "language": "python",
   "name": "python3"
  },
  "language_info": {
   "codemirror_mode": {
    "name": "ipython",
    "version": 3
   },
   "file_extension": ".py",
   "mimetype": "text/x-python",
   "name": "python",
   "nbconvert_exporter": "python",
   "pygments_lexer": "ipython3",
   "version": "3.6.8"
  }
 },
 "nbformat": 4,
 "nbformat_minor": 2
}
