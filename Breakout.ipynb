{
 "cells": [
  {
   "cell_type": "markdown",
   "metadata": {},
   "source": [
    "## Atari Breakout Q-Learning"
   ]
  },
  {
   "cell_type": "markdown",
   "metadata": {},
   "source": [
    "##### Allow memory growth for tensorflow, Windows work around"
   ]
  },
  {
   "cell_type": "code",
   "execution_count": 1,
   "metadata": {},
   "outputs": [],
   "source": [
    "import tensorflow as tf\n",
    "config = tf.ConfigProto()\n",
    "config.gpu_options.allow_growth = True\n",
    "session = tf.Session(config=config)"
   ]
  },
  {
   "cell_type": "markdown",
   "metadata": {},
   "source": [
    "##### Verify GPU availability"
   ]
  },
  {
   "cell_type": "code",
   "execution_count": 2,
   "metadata": {
    "scrolled": false
   },
   "outputs": [],
   "source": [
    "#from tensorflow.python.client import device_lib\n",
    "#print(device_lib.list_local_devices())\n",
    "#from keras import backend as K\n",
    "#print(K.tensorflow_backend._get_available_gpus())"
   ]
  },
  {
   "cell_type": "markdown",
   "metadata": {},
   "source": [
    "#### Constants"
   ]
  },
  {
   "cell_type": "code",
   "execution_count": 3,
   "metadata": {},
   "outputs": [],
   "source": [
    "IMG_HEIGHT=100\n",
    "IMG_WIDTH=100\n",
    "N_FRAMES=4\n",
    "\n",
    "n_episodes = 10000"
   ]
  },
  {
   "cell_type": "code",
   "execution_count": 4,
   "metadata": {},
   "outputs": [],
   "source": [
    "from ai_image_preprocess import ImagePreprocessor\n",
    "\n",
    "img_pp = ImagePreprocessor(IMG_WIDTH, IMG_HEIGHT)\n",
    "def process(frame):\n",
    "    return img_pp.preprocess(frame)"
   ]
  },
  {
   "cell_type": "markdown",
   "metadata": {},
   "source": [
    "#### Training"
   ]
  },
  {
   "cell_type": "code",
   "execution_count": null,
   "metadata": {},
   "outputs": [],
   "source": [
    "import ai_display as display\n",
    "import ai_util as util\n",
    "import ai_logger as logger\n",
    "\n",
    "def train(env, agent, n_episodes, model_name=\"model\", save_interval=100):\n",
    "    for episode in range(n_episodes):\n",
    "        frame = env.reset()\n",
    "        state = util.create_state_arr(process(frame))\n",
    "        score = 0\n",
    "        \n",
    "        for t in range(1000):\n",
    "            #display.show_state(state[:, :, 3], env.spec.id, t, score)\n",
    "\n",
    "            action = agent.act(state)\n",
    "\n",
    "            next_frame, reward, done, info = env.step(action)\n",
    "            next_state = util.update_state_arr(state, process(next_frame))\n",
    "            \n",
    "            agent.remember(state, action, reward, next_state, done)\n",
    "            \n",
    "            state = next_state\n",
    "            score += reward\n",
    "            \n",
    "            if done: \n",
    "                logger.log(\"Episode {:>5}/{}, #frames {:>3}, score {}, epsilon {}\"\n",
    "                           .format(episode+1, n_episodes, t, score, agent.epsilon))\n",
    "                break\n",
    "            \n",
    "        agent.replay(batch_size=128)\n",
    "        \n",
    "        if episode % save_interval == 0:\n",
    "            agent.save_model(model_name)\n",
    "            \n",
    "    agent.save_model(model_name)\n",
    "        "
   ]
  },
  {
   "cell_type": "markdown",
   "metadata": {},
   "source": [
    "#### Main"
   ]
  },
  {
   "cell_type": "code",
   "execution_count": null,
   "metadata": {
    "scrolled": true
   },
   "outputs": [
    {
     "name": "stdout",
     "output_type": "stream",
     "text": [
      "Episode     6/10000, #frames 337, score 3.0, epsilon 0.9752487531218751\n",
      "Episode     7/10000, #frames 259, score 1.0, epsilon 0.9703725093562657\n",
      "Episode     8/10000, #frames 166, score 0.0, epsilon 0.9655206468094844\n",
      "Episode     9/10000, #frames 245, score 1.0, epsilon 0.960693043575437\n",
      "Episode    10/10000, #frames 244, score 1.0, epsilon 0.9558895783575597\n",
      "Episode    11/10000, #frames 189, score 0.0, epsilon 0.9511101304657719\n",
      "Episode    12/10000, #frames 167, score 0.0, epsilon 0.946354579813443\n",
      "Episode    13/10000, #frames 237, score 1.0, epsilon 0.9416228069143757\n",
      "Episode    14/10000, #frames 215, score 1.0, epsilon 0.9369146928798039\n",
      "Episode    15/10000, #frames 261, score 2.0, epsilon 0.9322301194154049\n"
     ]
    }
   ],
   "source": [
    "from ai_agent import Agent\n",
    "import gym\n",
    "\n",
    "env = gym.make(\"Breakout-v0\") #env = gym.make(\"BreakoutDeterministic-v4\")\n",
    "n_actions = env.action_space.n\n",
    "state_shape = (IMG_WIDTH, IMG_HEIGHT, N_FRAMES)\n",
    "\n",
    "agent = Agent(state_shape, n_actions, exploit=False)\n",
    "\n",
    "model_name = \"model\"\n",
    "#agent.new_model()\n",
    "agent.load_model(model_name) \n",
    "train(env, agent, n_episodes, model_name=model_name, save_interval=50)"
   ]
  },
  {
   "cell_type": "code",
   "execution_count": null,
   "metadata": {},
   "outputs": [],
   "source": []
  }
 ],
 "metadata": {
  "kernelspec": {
   "display_name": "Python 3",
   "language": "python",
   "name": "python3"
  },
  "language_info": {
   "codemirror_mode": {
    "name": "ipython",
    "version": 3
   },
   "file_extension": ".py",
   "mimetype": "text/x-python",
   "name": "python",
   "nbconvert_exporter": "python",
   "pygments_lexer": "ipython3",
   "version": "3.6.8"
  }
 },
 "nbformat": 4,
 "nbformat_minor": 2
}
