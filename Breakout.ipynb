{
 "cells": [
  {
   "cell_type": "code",
   "execution_count": 20,
   "metadata": {},
   "outputs": [],
   "source": [
    "IMG_HEIGHT=100\n",
    "IMG_WIDTH=76\n",
    "\n",
    "epsilon = 1\n",
    "n_episodes = 1"
   ]
  },
  {
   "cell_type": "markdown",
   "metadata": {},
   "source": [
    "#### Display related"
   ]
  },
  {
   "cell_type": "code",
   "execution_count": 26,
   "metadata": {},
   "outputs": [],
   "source": [
    "import matplotlib.pyplot as plt\n",
    "%matplotlib inline\n",
    "from IPython import display\n",
    "\n",
    "def show_state(observation, env_id, step=0, info=\"\"):\n",
    "    plt.figure(3)\n",
    "    plt.clf()\n",
    "    plt.imshow(observation, cmap='gray')\n",
    "    plt.title(\"%s | Step: %d %s\" % (env_id, step, info))\n",
    "    plt.axis('off')\n",
    "    \n",
    "    display.clear_output(wait=True)\n",
    "    display.display(plt.gcf())\n",
    "    plt.close()"
   ]
  },
  {
   "cell_type": "markdown",
   "metadata": {},
   "source": [
    "#### Preprocessing"
   ]
  },
  {
   "cell_type": "code",
   "execution_count": 6,
   "metadata": {},
   "outputs": [],
   "source": [
    "import cv2\n",
    "import numpy as np\n",
    "\n",
    "def downsize(img_arry):\n",
    "    return cv2.resize(img_arry, dsize=(IMG_WIDTH, IMG_HEIGHT), interpolation=cv2.INTER_CUBIC)\n",
    "\n",
    "def rgb2gray(img_arr):\n",
    "    return np.dot(img_arr[...,:3], [0.299, 0.587, 0.114])\n",
    "\n",
    "def normalize(img_arr):\n",
    "    return np.divide(img_arr, 255.0)\n",
    "\n",
    "def preprocess_image(img_arr):\n",
    "    downsized = downsize(img_arr)\n",
    "    gray = rgb2gray(downsized)\n",
    "    return normalize(gray)\n",
    "    "
   ]
  },
  {
   "cell_type": "markdown",
   "metadata": {},
   "source": [
    "#### Memory"
   ]
  },
  {
   "cell_type": "code",
   "execution_count": 3,
   "metadata": {},
   "outputs": [],
   "source": [
    "import random\n",
    "\n",
    "class Memory:\n",
    "\n",
    "    # wants the following input\n",
    "    # [(state, action, reward, next_state, done)...]\n",
    "    def __init__(self):\n",
    "        self.memory = []\n",
    "\n",
    "    # @params\n",
    "    # state = previous 4 images\n",
    "    # action = what action we took\n",
    "    # reward = reward\n",
    "    # next_state = what happened\n",
    "    # done = done\n",
    "    def add(self, state, action, reward, next_state, done):\n",
    "        self.memory.append((state, action, reward, next_state, done))\n",
    "\n",
    "    def sample(self, batch_size):\n",
    "        return random.sample(self.memory, batch_size)"
   ]
  },
  {
   "cell_type": "markdown",
   "metadata": {},
   "source": [
    "#### Model"
   ]
  },
  {
   "cell_type": "code",
   "execution_count": 14,
   "metadata": {},
   "outputs": [
    {
     "ename": "SyntaxError",
     "evalue": "invalid syntax (<ipython-input-14-2a2965404825>, line 5)",
     "output_type": "error",
     "traceback": [
      "\u001b[1;36m  File \u001b[1;32m\"<ipython-input-14-2a2965404825>\"\u001b[1;36m, line \u001b[1;32m5\u001b[0m\n\u001b[1;33m    form keras.optimizers import RMSprop\u001b[0m\n\u001b[1;37m             ^\u001b[0m\n\u001b[1;31mSyntaxError\u001b[0m\u001b[1;31m:\u001b[0m invalid syntax\n"
     ]
    }
   ],
   "source": [
    "from keras.layers.convolutional import Convolution2D\n",
    "from keras.layers.core import Flatten\n",
    "from keras.layers import Dense, Input\n",
    "from keras.models import Model\n",
    "form keras.optimizers import RMSprop\n",
    "\n",
    "def atari_model(n_actions):\n",
    "    # Define the inputs\n",
    "    ATARI_SHAPE = (4, IMG_HEIGHT, IMG_WIDTH)\n",
    "    frames_input = Input(ATARI_SHAPE, name='frames')\n",
    "    actions_input = Input((n_actions,), name='mask')\n",
    "    \n",
    "    # Convolution\n",
    "    conv_1 = Convolution2D(16, 8, 8, subsample=(4, 4), activation='relu')(frames_input)\n",
    "    conv_2 = Convolution2D(32, 4, 4, subsample=(2, 2), activation='relu')(conv_1)\n",
    "    \n",
    "    # Flatten\n",
    "    conv_flattened = Flatten()(conv_2)\n",
    "    \n",
    "    # Hidden\n",
    "    hidden = Dense(256, activation='relu')(conv_flattened)\n",
    "    \n",
    "    # Output\n",
    "    output = Dense(n_actions)(hidden)\n",
    "    \n",
    "    # Multiply the output by the mask\n",
    "    filtered_output = keras.layers.merge([output, actions_input], mode='mul')\n",
    "\n",
    "    \n",
    "    model = Model(input=[frames_input, actions_input], output=filtered_output)\n",
    "    optimizer = RMSprop(lr=0.00025, rho=0.95, epsilon=0.01)\n",
    "    model.compile(optimizer, loss='mse')\n",
    "    \n",
    "    return model"
   ]
  },
  {
   "cell_type": "markdown",
   "metadata": {},
   "source": [
    "#### Main loop"
   ]
  },
  {
   "cell_type": "code",
   "execution_count": 40,
   "metadata": {
    "scrolled": false
   },
   "outputs": [
    {
     "data": {
      "image/png": "[encoded data removed]",
      "text/plain": [
       "<Figure size 432x288 with 1 Axes>"
      ]
     },
     "metadata": {},
     "output_type": "display_data"
    },
    {
     "name": "stdout",
     "output_type": "stream",
     "text": [
      "Finished after 167 timesteps\n"
     ]
    }
   ],
   "source": [
    "import gym\n",
    "env = gym.make(\"BreakoutDeterministic-v4\")\n",
    "\n",
    "#model = atari_model(env.action_space.n)\n",
    "\n",
    "for episode in range(n_episodes):\n",
    "    state = env.reset()\n",
    "    memory = Memory()\n",
    "\n",
    "    for t in range(500):\n",
    "        state = preprocess_image(env.render(mode='rgb_array'))\n",
    "        show_state(state, env.spec.id, t)\n",
    "\n",
    "        if random.random() < epsilon:\n",
    "            action = env.action_space.sample() \n",
    "        else:\n",
    "            # TODO: Select optimal actions\n",
    "            action = env.action_space.sample()\n",
    "\n",
    "        next_state_raw, reward, done, info = env.step(action)\n",
    "        next_state = preprocess_image(next_state_raw)\n",
    "        memory.add(state, action, reward, next_state, done)\n",
    "\n",
    "        #batch = memory.sample(32)\n",
    "        #fit_batch(model, batch)\n",
    "        if done:\n",
    "            print(\"Finished after {} timesteps\".format(t+1))\n",
    "            break;\n",
    "    "
   ]
  },
  {
   "cell_type": "code",
   "execution_count": null,
   "metadata": {},
   "outputs": [],
   "source": []
  }
 ],
 "metadata": {
  "kernelspec": {
   "display_name": "Python 3",
   "language": "python",
   "name": "python3"
  },
  "language_info": {
   "codemirror_mode": {
    "name": "ipython",
    "version": 3
   },
   "file_extension": ".py",
   "mimetype": "text/x-python",
   "name": "python",
   "nbconvert_exporter": "python",
   "pygments_lexer": "ipython3",
   "version": "3.7.1"
  }
 },
 "nbformat": 4,
 "nbformat_minor": 2
}
