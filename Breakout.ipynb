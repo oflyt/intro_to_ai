{
 "cells": [
  {
   "cell_type": "code",
   "execution_count": 1,
   "metadata": {},
   "outputs": [],
   "source": [
    "from ai_image_preprocessor import preprocess\n",
    "\n",
    "def step(env, action, state):\n",
    "    next_frame_1, reward_1, done_1, _ = env.step(action)\n",
    "    next_frame_2, reward_2, done_2, _ = env.step(action)\n",
    "    next_state = util.update_state_arr(state, preprocess(next_frame_1), preprocess(next_frame_2))\n",
    "    return (next_state, int(reward_1 + reward_2), done_1 or done_2)"
   ]
  },
  {
   "cell_type": "code",
   "execution_count": 2,
   "metadata": {},
   "outputs": [],
   "source": [
    "import ai_display as display\n",
    "import ai_util as util\n",
    "from ai_logger import Logger\n",
    "import time\n",
    "\n",
    "def train(env, agent, n_episodes=10000, model_name=\"model\", save_interval=5, log_interval=1):\n",
    "    logger = Logger(10, \"episode | frames | score | step time | ep time\")\n",
    "    \n",
    "    for episode in range(n_episodes):\n",
    "        \n",
    "        frame = env.reset()\n",
    "        state = util.create_state_arr(preprocess(frame))\n",
    "        score = 0\n",
    "        steps = 0\n",
    "        start_time = time.time()\n",
    "        for t in range(1000):\n",
    "#             display.show_state(state[3], env.spec.id, t, score)\n",
    "\n",
    "            action = agent.act(state)\n",
    "\n",
    "            next_state, reward, done = step(env, action, state)\n",
    "            \n",
    "            agent.remember(state, action, reward, next_state, done)\n",
    "            \n",
    "            state = next_state\n",
    "            score += reward\n",
    "            \n",
    "            agent.replay(batch_size=32)\n",
    "            steps += 1\n",
    "            if done: \n",
    "                duration = time.time() - start_time\n",
    "                logger.add(\"{:>7d} | {:>6d} | {:>5d} | {:>9.5f} | {:>7.5f}\"\n",
    "                       .format(episode+1, t, score, duration/t, duration))\n",
    "                break\n",
    "                \n",
    "        if episode % log_interval == 0:\n",
    "            logger.log()\n",
    "            \n",
    "        if episode % save_interval == 0:\n",
    "            agent.save_model(model_name)\n",
    "            f= open(\"steps.txt\",\"a+\")\n",
    "            f.write(str(steps))\n",
    "            f.close()\n",
    "        \n",
    "    agent.save_model(model_name)\n"
   ]
  },
  {
   "cell_type": "code",
   "execution_count": null,
   "metadata": {},
   "outputs": [
    {
     "name": "stdout",
     "output_type": "stream",
     "text": [
      "episode | frames | score | step time | ep time\n",
      "     57 |    123 |     2 |   0.14599 | 17.95647\n",
      "     58 |     76 |     1 |   0.13774 | 10.46841\n",
      "     59 |    157 |     4 |   0.12777 | 20.05925\n",
      "     60 |    118 |     3 |   0.12747 | 15.04190\n",
      "     61 |    112 |     2 |   0.12689 | 14.21216\n",
      "     62 |     86 |     1 |   0.12939 | 11.12756\n",
      "     63 |     75 |     0 |   0.12763 | 9.57258\n",
      "     64 |    103 |     2 |   0.12629 | 13.00769\n",
      "     65 |    110 |     2 |   0.12628 | 13.89043\n",
      "     66 |     94 |     1 |   0.12710 | 11.94715\n"
     ]
    }
   ],
   "source": [
    "from ai_agent import Agent\n",
    "import gym\n",
    "\n",
    "env = gym.make(\"BreakoutDeterministic-v4\")\n",
    "n_actions = env.action_space.n\n",
    "state_shape = (84, 84, 4)\n",
    "\n",
    "agent = Agent(state_shape, n_actions, epsilon=1.0)\n",
    "\n",
    "model_name = \"models/new-model.h5\"\n",
    "# agent.new_model()\n",
    "agent.load_model(model_name) \n",
    "train(env, agent, model_name=model_name)"
   ]
  },
  {
   "cell_type": "code",
   "execution_count": null,
   "metadata": {},
   "outputs": [],
   "source": []
  }
 ],
 "metadata": {
  "kernelspec": {
   "display_name": "Python 3",
   "language": "python",
   "name": "python3"
  },
  "language_info": {
   "codemirror_mode": {
    "name": "ipython",
    "version": 3
   },
   "file_extension": ".py",
   "mimetype": "text/x-python",
   "name": "python",
   "nbconvert_exporter": "python",
   "pygments_lexer": "ipython3",
   "version": "3.6.8"
  }
 },
 "nbformat": 4,
 "nbformat_minor": 2
}
