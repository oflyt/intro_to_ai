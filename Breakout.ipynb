{
 "cells": [
  {
   "cell_type": "markdown",
   "metadata": {},
   "source": [
    "## Atari Breakout Q-Learning"
   ]
  },
  {
   "cell_type": "markdown",
   "metadata": {},
   "source": [
    "##### Allow memory growth for tensorflow, Windows work around"
   ]
  },
  {
   "cell_type": "code",
   "execution_count": 1,
   "metadata": {},
   "outputs": [],
   "source": [
    "import tensorflow as tf\n",
    "config = tf.ConfigProto()\n",
    "config.gpu_options.allow_growth = True\n",
    "session = tf.Session(config=config)"
   ]
  },
  {
   "cell_type": "markdown",
   "metadata": {},
   "source": [
    "##### Verify GPU availability"
   ]
  },
  {
   "cell_type": "code",
   "execution_count": 2,
   "metadata": {
    "scrolled": false
   },
   "outputs": [],
   "source": [
    "#from tensorflow.python.client import device_lib\n",
    "#print(device_lib.list_local_devices())\n",
    "#from keras import backend as K\n",
    "#print(K.tensorflow_backend._get_available_gpus())"
   ]
  },
  {
   "cell_type": "markdown",
   "metadata": {},
   "source": [
    "#### Constants"
   ]
  },
  {
   "cell_type": "code",
   "execution_count": 3,
   "metadata": {},
   "outputs": [],
   "source": [
    "IMG_HEIGHT=100\n",
    "IMG_WIDTH=100\n",
    "\n",
    "n_episodes = 1000"
   ]
  },
  {
   "cell_type": "markdown",
   "metadata": {},
   "source": [
    "#### Training"
   ]
  },
  {
   "cell_type": "code",
   "execution_count": 4,
   "metadata": {},
   "outputs": [],
   "source": [
    "import ai_display as display\n",
    "import ai_util as util\n",
    "\n",
    "def train(env, agent, n_episodes, img_pp, save_interval=10):\n",
    "    for episode in range(n_episodes):\n",
    "        frame = img_pp.preprocess(env.reset())\n",
    "        state = util.create_state_arr(frame)\n",
    "        score = 0\n",
    "        \n",
    "        for t in range(1000):\n",
    "            frame_raw = env.render(mode='rgb_array')\n",
    "            display.show_state(frame_raw, env.spec.id, t, score)\n",
    "\n",
    "            action = agent.act(state)\n",
    "\n",
    "            next_frame_raw, reward, done, info = env.step(action)\n",
    "            next_frame = img_pp.preprocess(next_frame_raw)\n",
    "            next_state = util.update_state_arr(state, next_frame)\n",
    "            \n",
    "            agent.remember(state, action, reward, next_state, done)\n",
    "            \n",
    "            state = next_state\n",
    "            score += reward\n",
    "            \n",
    "            if done: \n",
    "                print(\"Episode {:>3}/{}, #frames {:>3}, score {}\".format(episode+1, n_episodes, t, score))\n",
    "                break\n",
    "            \n",
    "        agent.replay(batch_size=32)\n",
    "        \n",
    "        if episode % save_interval == 0:\n",
    "            agent.save_model(\"model\")\n",
    "        "
   ]
  },
  {
   "cell_type": "markdown",
   "metadata": {},
   "source": [
    "#### Main"
   ]
  },
  {
   "cell_type": "code",
   "execution_count": null,
   "metadata": {
    "scrolled": false
   },
   "outputs": [
    {
     "data": {
      "image/png": "[encoded data removed]",
      "text/plain": [
       "<Figure size 432x288 with 1 Axes>"
      ]
     },
     "metadata": {},
     "output_type": "display_data"
    }
   ],
   "source": [
    "from ai_agent import Agent\n",
    "from ai_image_preprocess import ImagePreprocessor\n",
    "import gym\n",
    "\n",
    "#env = gym.make(\"BreakoutDeterministic-v4\")\n",
    "env = gym.make(\"Breakout-v0\")\n",
    "n_actions = env.action_space.n\n",
    "state_shape = (IMG_WIDTH, IMG_HEIGHT, 4)\n",
    "\n",
    "img_pp = ImagePreprocessor(IMG_WIDTH, IMG_HEIGHT)\n",
    "agent = Agent(state_shape, n_actions)\n",
    "\n",
    "#agent.new_model()\n",
    "agent.load_model(\"model\")\n",
    "train(env, agent, n_episodes, img_pp, save_interval=10)\n",
    "agent.save_model(\"model\")"
   ]
  }
 ],
 "metadata": {
  "kernelspec": {
   "display_name": "Python 3",
   "language": "python",
   "name": "python3"
  },
  "language_info": {
   "codemirror_mode": {
    "name": "ipython",
    "version": 3
   },
   "file_extension": ".py",
   "mimetype": "text/x-python",
   "name": "python",
   "nbconvert_exporter": "python",
   "pygments_lexer": "ipython3",
   "version": "3.6.8"
  }
 },
 "nbformat": 4,
 "nbformat_minor": 2
}
