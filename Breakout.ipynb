{
 "cells": [
  {
   "cell_type": "markdown",
   "metadata": {},
   "source": [
    "## Atari Breakout Q-Learning"
   ]
  },
  {
   "cell_type": "markdown",
   "metadata": {},
   "source": [
    "##### Allow memory growth for tensorflow, Windows work around"
   ]
  },
  {
   "cell_type": "markdown",
   "metadata": {},
   "source": [
    "import tensorflow as tf  \n",
    "config = tf.ConfigProto()  \n",
    "config.gpu_options.allow_growth = True  \n",
    "session = tf.Session(config=config)  "
   ]
  },
  {
   "cell_type": "markdown",
   "metadata": {},
   "source": [
    "##### Verify GPU availability"
   ]
  },
  {
   "cell_type": "markdown",
   "metadata": {
    "scrolled": false
   },
   "source": [
    "from tensorflow.python.client import device_lib  \n",
    "print(device_lib.list_local_devices())  \n",
    "from keras import backend as K  \n",
    "print(K.tensorflow_backend._get_available_gpus())  "
   ]
  },
  {
   "cell_type": "markdown",
   "metadata": {},
   "source": [
    "#### Training"
   ]
  },
  {
   "cell_type": "code",
   "execution_count": 1,
   "metadata": {},
   "outputs": [],
   "source": [
    "from ai_image_preprocess import preprocess\n",
    "import ai_state as state_util\n",
    "import numpy as np\n",
    "\n",
    "def step(env, action, state):\n",
    "    next_frame_1, reward_1, done_1, _ = env.step(action)\n",
    "    next_frame_2, reward_2, done_2, _ = env.step(action)\n",
    "    next_state = state_util.update(state, preprocess(next_frame_1), preprocess(next_frame_2))\n",
    "    return (next_state, int(reward_1 + reward_2), done_1 or done_2)"
   ]
  },
  {
   "cell_type": "code",
   "execution_count": 2,
   "metadata": {},
   "outputs": [],
   "source": [
    "import ai_display as display\n",
    "import ai_state as state_util\n",
    "from ai_logger import Logger\n",
    "import time\n",
    "\n",
    "def train(env, agent, n_episodes=10000, model_name=\"model.h5\", save_interval=50):\n",
    "    logger = Logger(10, \"episode | frames | score | step time | epi time\")\n",
    "    \n",
    "    for episode in range(n_episodes):\n",
    "        \n",
    "        frame = env.reset()\n",
    "        state = state_util.create(preprocess(frame))\n",
    "        score = 0\n",
    "        \n",
    "        start_time = time.time()\n",
    "        for t in range(5000):\n",
    "            #display.show_state(state, env.spec.id, t, score)\n",
    "\n",
    "            action = agent.act(state)\n",
    "            next_state, reward, done = step(env, action, state)\n",
    "            agent.remember(state, action, reward, next_state, done)\n",
    "            agent.replay(batch_size=32)\n",
    "            \n",
    "            state = next_state\n",
    "            score += reward\n",
    "            \n",
    "            if done: \n",
    "                break\n",
    "                \n",
    "        duration = time.time() - start_time\n",
    "        logger.log(\"{:>7d} | {:>6d} | {:>5d} | {:>9.5f} | {:>8.5f}\"\n",
    "               .format(episode+1, t, score, duration/t, duration))\n",
    "                \n",
    "        if episode % save_interval == 0:\n",
    "            agent.save_model(model_name)\n",
    "        \n",
    "    agent.save_model(model_name)\n",
    "        "
   ]
  },
  {
   "cell_type": "markdown",
   "metadata": {},
   "source": [
    "#### Main"
   ]
  },
  {
   "cell_type": "code",
   "execution_count": 3,
   "metadata": {},
   "outputs": [],
   "source": [
    "def calc_dimensions(env):\n",
    "    n_actions = env.action_space.n\n",
    "    obs_shape = env.observation_space.shape\n",
    "    height = obs_shape[0]//2; width = obs_shape[1]//2; n_frames = 4\n",
    "    state_shape = (height, width, n_frames)\n",
    "    return (state_shape, n_actions)"
   ]
  },
  {
   "cell_type": "code",
   "execution_count": null,
   "metadata": {
    "scrolled": true
   },
   "outputs": [
    {
     "name": "stdout",
     "output_type": "stream",
     "text": [
      "episode | frames | score | step time | epi time\n",
      "      1 |    120 |     3 |   0.12989 | 15.58721\n",
      "      2 |    114 |     1 |   0.17270 | 19.68747\n",
      "      3 |     90 |     0 |   0.17350 | 15.61481\n",
      "      4 |     83 |     0 |   0.17413 | 14.45279\n",
      "      5 |    121 |     0 |   0.17549 | 21.23428\n",
      "      6 |    180 |     2 |   0.17390 | 31.30283\n",
      "      7 |    148 |     3 |   0.17632 | 26.09475\n",
      "      8 |    116 |     2 |   0.17689 | 20.51928\n"
     ]
    }
   ],
   "source": [
    "from ai_agent import Agent\n",
    "import gym\n",
    "\n",
    "env = gym.make(\"BreakoutDeterministic-v4\")\n",
    "state_shape, n_actions = calc_dimensions(env)\n",
    "\n",
    "agent = Agent(state_shape, n_actions, epsilon=0.4)\n",
    "\n",
    "model_name = \"models/laptop-model.h5\"\n",
    "#agent.new_model()\n",
    "agent.load_model(model_name) \n",
    "train(env, agent, model_name=model_name)\n"
   ]
  },
  {
   "cell_type": "code",
   "execution_count": null,
   "metadata": {},
   "outputs": [],
   "source": []
  }
 ],
 "metadata": {
  "kernelspec": {
   "display_name": "Python 3",
   "language": "python",
   "name": "python3"
  },
  "language_info": {
   "codemirror_mode": {
    "name": "ipython",
    "version": 3
   },
   "file_extension": ".py",
   "mimetype": "text/x-python",
   "name": "python",
   "nbconvert_exporter": "python",
   "pygments_lexer": "ipython3",
   "version": "3.6.8"
  }
 },
 "nbformat": 4,
 "nbformat_minor": 2
}
