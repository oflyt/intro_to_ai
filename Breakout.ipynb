{
 "cells": [
  {
   "cell_type": "markdown",
   "metadata": {},
   "source": [
    "## Atari Breakout Q-Learning"
   ]
  },
  {
   "cell_type": "markdown",
   "metadata": {},
   "source": [
    "##### Allow memory growth for tensorflow, Windows work around"
   ]
  },
  {
   "cell_type": "code",
   "execution_count": 1,
   "metadata": {},
   "outputs": [],
   "source": [
    "import tensorflow as tf\n",
    "config = tf.ConfigProto()\n",
    "config.gpu_options.allow_growth = True\n",
    "session = tf.Session(config=config)"
   ]
  },
  {
   "cell_type": "markdown",
   "metadata": {},
   "source": [
    "##### Verify GPU availability"
   ]
  },
  {
   "cell_type": "markdown",
   "metadata": {
    "scrolled": false
   },
   "source": [
    "from tensorflow.python.client import device_lib  \n",
    "print(device_lib.list_local_devices())  \n",
    "from keras import backend as K  \n",
    "print(K.tensorflow_backend._get_available_gpus())  "
   ]
  },
  {
   "cell_type": "markdown",
   "metadata": {},
   "source": [
    "#### Training"
   ]
  },
  {
   "cell_type": "code",
   "execution_count": 2,
   "metadata": {},
   "outputs": [],
   "source": [
    "from ai_image_preprocess import preprocess\n",
    "\n",
    "def step(env, action, state):\n",
    "    next_frame_1, reward_1, done_1, _ = env.step(action)\n",
    "    next_frame_2, reward_2, done_2, _ = env.step(action)\n",
    "    next_state = util.update_state_arr(state, preprocess(next_frame_1), preprocess(next_frame_2))\n",
    "    return (next_state, reward_1 + reward_2, done_1 or done_2)"
   ]
  },
  {
   "cell_type": "code",
   "execution_count": 3,
   "metadata": {},
   "outputs": [],
   "source": [
    "import ai_display as display\n",
    "import ai_util as util\n",
    "from ai_logger import Logger\n",
    "import time\n",
    "\n",
    "def train(env, agent, n_episodes, model_name=\"model\", save_interval=100):\n",
    "    logger = Logger(10, \"    Episode | #frames | score | avg_step_time\")\n",
    "    \n",
    "    for episode in range(n_episodes):\n",
    "        \n",
    "        frame = env.reset()\n",
    "        state = util.create_state_arr(preprocess(frame))\n",
    "        score = 0\n",
    "        \n",
    "        start_time = time.time()\n",
    "        for t in range(1000):\n",
    "            #display.show_state(state[3], env.spec.id, t, score)\n",
    "\n",
    "            action = agent.act(state)\n",
    "\n",
    "            next_state, reward, done = step(env, action, state)\n",
    "            \n",
    "            agent.remember(state, action, reward, next_state, done)\n",
    "            \n",
    "            state = next_state\n",
    "            score += reward\n",
    "            \n",
    "            agent.replay(batch_size=32)\n",
    "            \n",
    "            if done: \n",
    "                logger.log(\"{:>5}/{} | {:>7} | {:>5} | {:.5f}\"\n",
    "                           .format(episode+1, n_episodes, t, score, (time.time() - start_time)/t))\n",
    "                break\n",
    "                \n",
    "        if episode % save_interval == 0:\n",
    "            agent.save_model(model_name)\n",
    "        \n",
    "    agent.save_model(model_name)\n",
    "        "
   ]
  },
  {
   "cell_type": "markdown",
   "metadata": {},
   "source": [
    "#### Main"
   ]
  },
  {
   "cell_type": "code",
   "execution_count": null,
   "metadata": {
    "scrolled": false
   },
   "outputs": [
    {
     "data": {
      "image/png": "[encoded data removed]",
      "text/plain": [
       "<Figure size 432x288 with 1 Axes>"
      ]
     },
     "metadata": {},
     "output_type": "display_data"
    }
   ],
   "source": [
    "from ai_agent import Agent\n",
    "import gym\n",
    "\n",
    "env = gym.make(\"BreakoutDeterministic-v4\")\n",
    "n_actions = env.action_space.n\n",
    "state_shape = (105, 80, 4)\n",
    "\n",
    "agent = Agent(state_shape, n_actions, epsilon=0.6)\n",
    "\n",
    "model_name = \"new-model\"\n",
    "#agent.new_model()\n",
    "agent.load_model(model_name) \n",
    "train(env, agent, n_episodes=10000, model_name=model_name, save_interval=10)\n"
   ]
  },
  {
   "cell_type": "code",
   "execution_count": null,
   "metadata": {},
   "outputs": [],
   "source": []
  }
 ],
 "metadata": {
  "kernelspec": {
   "display_name": "Python 3",
   "language": "python",
   "name": "python3"
  },
  "language_info": {
   "codemirror_mode": {
    "name": "ipython",
    "version": 3
   },
   "file_extension": ".py",
   "mimetype": "text/x-python",
   "name": "python",
   "nbconvert_exporter": "python",
   "pygments_lexer": "ipython3",
   "version": "3.6.8"
  }
 },
 "nbformat": 4,
 "nbformat_minor": 2
}
